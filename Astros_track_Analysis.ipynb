{
  "nbformat": 4,
  "nbformat_minor": 0,
  "metadata": {
    "colab": {
      "provenance": []
    },
    "kernelspec": {
      "name": "python3",
      "display_name": "Python 3"
    },
    "language_info": {
      "name": "python"
    }
  },
  "cells": [
    {
      "cell_type": "markdown",
      "source": [
        "# Load data"
      ],
      "metadata": {
        "id": "2kwBLjxAuikY"
      }
    },
    {
      "cell_type": "code",
      "source": [
        "import pandas as pd\n",
        "path2 = \"https://raw.githubusercontent.com/allen1yuan/astro_data/main/datathon_2024_dataset.csv\"\n",
        "path = \"https://raw.githubusercontent.com/allen1yuan/astro_data/main/datathon_clean.csv\"\n",
        "orginal = \"/content/datathon_2024_dataset.csv\"\n",
        "df = pd.read_csv(orginal)\n",
        "df.drop(columns=df.columns[0], axis=1, inplace=True) # Remove redundant index column"
      ],
      "metadata": {
        "id": "zNRCOAydvfaJ"
      },
      "execution_count": 24,
      "outputs": []
    },
    {
      "cell_type": "markdown",
      "source": [
        "# Identify if away_team traveled or not\n"
      ],
      "metadata": {
        "id": "A5icOb0pvf7O"
      }
    },
    {
      "cell_type": "code",
      "source": [
        "import pandas as pd\n",
        "import numpy as np\n",
        "import matplotlib.pyplot as plt\n",
        "import seaborn as sns\n",
        "# plt.figure(figsize=(20, 20))\n",
        "# sns.heatmap(df.corr(), annot=True, cmap='coolwarm')\n",
        "# plt.title('Correlation Matrix')\n",
        "# plt.show()\n",
        "df.shape"
      ],
      "metadata": {
        "id": "kJchOEDc07cH",
        "colab": {
          "base_uri": "https://localhost:8080/"
        },
        "outputId": "01b6adb3-041e-41cc-99f3-916628fa3d25"
      },
      "execution_count": 25,
      "outputs": [
        {
          "output_type": "execute_result",
          "data": {
            "text/plain": [
              "(56775, 28)"
            ]
          },
          "metadata": {},
          "execution_count": 25
        }
      ]
    },
    {
      "cell_type": "code",
      "source": [
        "# Combining the data back for ease of analysis\n",
        "combined_data = df.copy()\n",
        "combined_data.sort_values(by=['away_team', 'game_date'], inplace=True)\n",
        "\n",
        "# Initialize a column to mark travel\n",
        "combined_data['away_team_traveled'] = 0\n",
        "\n",
        "# Modifying the detect_travel function to handle the first game\n",
        "def detect_travel_modified(group):\n",
        "    # Make sure sort by game_date\n",
        "    group = group.sort_values(by='game_date')\n",
        "\n",
        "    # Shift the previous city to the next row for comparison\n",
        "    group['prev_city'] = group['city'].shift(1)\n",
        "\n",
        "    # If the current city is different from the previous city, mark as traveled. If it's the first game, mark as not traveled.\n",
        "    group['away_team_traveled'] = ((group['city'] != group['prev_city']) & group['prev_city'].notnull()).astype(int)\n",
        "\n",
        "    # Drop the temporary column 'prev_city' for the next comparison\n",
        "    group.drop('prev_city', axis=1, inplace=True)\n",
        "    return group\n",
        "\n",
        "# Detect if the away_team traveled for today's game or not\n",
        "combined_data = combined_data.groupby('away_team').apply(detect_travel_modified)\n",
        "\n",
        "combined_data.reset_index(drop=True, inplace=True)\n",
        "\n",
        "combined_data.head()"
      ],
      "metadata": {
        "id": "uZFrNoYRErgs"
      },
      "execution_count": null,
      "outputs": []
    },
    {
      "cell_type": "markdown",
      "source": [
        "# Measure off-days for away_team"
      ],
      "metadata": {
        "id": "JH2SOcI6ZfL-"
      }
    },
    {
      "cell_type": "code",
      "source": [
        "# Calculate rest days\n",
        "combined_data['prev_game_date'] = combined_data.groupby('away_team')['game_date'].shift(1)\n",
        "combined_data['rest_days'] = (combined_data['game_date'] - combined_data['prev_game_date'])\n",
        "\n",
        "# Replace NaN in rest_days for the first game of each team with an appropriate value\n",
        "combined_data['rest_days'].fillna(0, inplace=True)"
      ],
      "metadata": {
        "id": "2OzlWbqiZkcM"
      },
      "execution_count": 27,
      "outputs": []
    },
    {
      "cell_type": "markdown",
      "source": [
        "# Measure travel distance for away_team"
      ],
      "metadata": {
        "id": "Stbx5SmMaIQZ"
      }
    },
    {
      "cell_type": "markdown",
      "source": [
        "### get geo-info for each city"
      ],
      "metadata": {
        "id": "aw-lH_9VabEB"
      }
    },
    {
      "cell_type": "code",
      "source": [
        "combined_data['city'].unique()"
      ],
      "metadata": {
        "colab": {
          "base_uri": "https://localhost:8080/"
        },
        "id": "sEG3v8_3cmhB",
        "outputId": "92a13af2-8a61-4202-e79f-3646a9322ad9"
      },
      "execution_count": 11,
      "outputs": [
        {
          "output_type": "execute_result",
          "data": {
            "text/plain": [
              "array(['Chicago', 'Toronto', 'St. Petersburg', 'Baltimore', 'Seattle',\n",
              "       'Minneapolis', 'Kansas City', 'Cleveland', 'Phoenix',\n",
              "       'Los Angeles', 'San Diego', 'Oakland', 'Arlington', 'New York',\n",
              "       'Boston', 'Detroit', 'San Francisco', 'Denver', 'St. Louis',\n",
              "       'Milwaukee', 'San Juan', 'Miami', 'Pittsburgh', 'Houston',\n",
              "       'Atlanta', 'Cincinnati', 'Philadelphia', 'Washington', 'Dunedin',\n",
              "       'Williamsport', 'Montreal', 'Anaheim', 'Buffalo', 'Tokyo',\n",
              "       'Dyersville', 'Omaha', 'Monterrey', 'Sydney', 'Fort Bragg',\n",
              "       'London', 'Lake Buena Vista'], dtype=object)"
            ]
          },
          "metadata": {},
          "execution_count": 11
        }
      ]
    },
    {
      "cell_type": "code",
      "source": [
        "cities = ['Chicago', 'Toronto', 'St. Petersburg', 'Baltimore', 'Seattle',\n",
        "       'Minneapolis', 'Kansas City', 'Cleveland', 'Phoenix',\n",
        "       'Los Angeles', 'San Diego', 'Oakland', 'Arlington', 'New York',\n",
        "       'Boston', 'Detroit', 'San Francisco', 'Denver', 'St. Louis',\n",
        "       'Milwaukee', 'San Juan', 'Miami', 'Pittsburgh', 'Houston',\n",
        "       'Atlanta', 'Cincinnati', 'Philadelphia', 'Washington', 'Dunedin',\n",
        "       'Williamsport', 'Montreal', 'Anaheim', 'Buffalo', 'Tokyo',\n",
        "       'Dyersville', 'Omaha', 'Monterrey', 'Sydney', 'Fort Bragg',\n",
        "       'London', 'Lake Buena Vista']\n",
        "\n",
        "coord = {}\n",
        "import requests\n",
        "# Get latitude and longitude\n",
        "key = 'E7KAcQXxCt3zWTuPNGRLwA==WJUto5jdJHFIucp7'\n",
        "\n",
        "for city in cities:\n",
        "    api_url = f'https://api.api-ninjas.com/v1/geocoding?city={city}'\n",
        "    response = requests.get(api_url, headers={'X-Api-Key': key})\n",
        "    if response.status_code == requests.codes.ok:\n",
        "        data = response.json()\n",
        "        # Check if data is not empty and return the first result\n",
        "        if data:\n",
        "              coord[city] = [data[0]['latitude'], data[0]['longitude']]\n",
        "        else:\n",
        "            print('error')\n",
        "    else:\n",
        "        print(\"Error:\", response.status_code, response.text)"
      ],
      "metadata": {
        "id": "QykJgeX5lwZY"
      },
      "execution_count": 15,
      "outputs": []
    },
    {
      "cell_type": "code",
      "source": [
        "# Map the city locations to the DataFrame\n",
        "combined_data['location'] = combined_data['city'].map(coord)\n",
        "\n",
        "# Split the location into lat and lon columns\n",
        "combined_data[['lat', 'lon']] = pd.DataFrame(combined_data['location'].tolist(), index=combined_data.index)\n",
        "\n",
        "combined_data.drop(columns=['location'], inplace=True)"
      ],
      "metadata": {
        "id": "OyRP5aSImyOw"
      },
      "execution_count": 28,
      "outputs": []
    },
    {
      "cell_type": "code",
      "source": [
        "# Calculate distance between two points use Haversine formula\n",
        "def haversine(lon1, lat1, lon2, lat2):\n",
        "    # convert decimal degrees to radians\n",
        "    lon1, lat1, lon2, lat2 = map(np.radians, [lon1, lat1, lon2, lat2])\n",
        "    # Haversine formula\n",
        "    dlon = lon2 - lon1\n",
        "    dlat = lat2 - lat1\n",
        "    a = np.sin(dlat/2)**2 + np.cos(lat1) * np.cos(lat2) * np.sin(dlon/2)**2\n",
        "    c = 2 * np.arcsin(np.sqrt(a))\n",
        "    r = 6371  # Radius of earth in kilometers\n",
        "    return c * r\n",
        "\n",
        "# Calculate the previous venue's lat and lon for each game\n",
        "combined_data['prev_lat'] = combined_data.groupby('away_team')['lat'].shift(1)\n",
        "combined_data['prev_lon'] = combined_data.groupby('away_team')['lon'].shift(1)\n",
        "\n",
        "# Calculate the travel distance using the Haversine formula\n",
        "combined_data['travel_distance'] = combined_data.apply(\n",
        "    lambda row: haversine(row['prev_lon'], row['prev_lat'], row['lon'], row['lat'])\n",
        "    if pd.notnull(row['prev_lon']) and pd.notnull(row['prev_lat']) else 0,\n",
        "    axis=1\n",
        ")\n",
        "\n",
        "combined_data.drop(columns=['prev_lat', 'prev_lon'], inplace=True)"
      ],
      "metadata": {
        "id": "Wmu4DD5_oLsX"
      },
      "execution_count": 29,
      "outputs": []
    },
    {
      "cell_type": "code",
      "source": [
        "combined_data.columns"
      ],
      "metadata": {
        "colab": {
          "base_uri": "https://localhost:8080/"
        },
        "id": "pLgHz8aipK3A",
        "outputId": "50aee895-0607-4461-a07a-1e3b775a27ad"
      },
      "execution_count": 31,
      "outputs": [
        {
          "output_type": "execute_result",
          "data": {
            "text/plain": [
              "Index(['game_date', 'home_team', 'away_team', 'is_day_game', 'home_score',\n",
              "       'away_score', 'venue', 'venue_name', 'city', 'state', 'home_pa',\n",
              "       'home_1b', 'home_2b', 'home_3b', 'home_hr', 'home_fo', 'home_so',\n",
              "       'home_bb', 'home_hbp', 'away_pa', 'away_1b', 'away_2b', 'away_3b',\n",
              "       'away_hr', 'away_fo', 'away_so', 'away_bb', 'away_hbp',\n",
              "       'away_team_traveled', 'prev_game_date', 'rest_days', 'lat', 'lon',\n",
              "       'travel_distance'],\n",
              "      dtype='object')"
            ]
          },
          "metadata": {},
          "execution_count": 31
        }
      ]
    },
    {
      "cell_type": "markdown",
      "source": [
        "### Calculate performance"
      ],
      "metadata": {
        "id": "j9ZI5NZvPRxR"
      }
    },
    {
      "cell_type": "code",
      "source": [
        "# Calculating total hits for the away team and home team\n",
        "combined_data['away_hits'] = combined_data['away_1b'] + combined_data['away_2b'] + combined_data['away_3b'] + combined_data['away_hr']\n",
        "combined_data['home_hits'] = combined_data['home_1b'] + combined_data['home_2b'] + combined_data['home_3b'] + combined_data['home_hr']\n",
        "# Setting weights for each component (for simplicity, we use equal weights here except for final score)\n",
        "w_final_scored = 5\n",
        "w_hits = 1\n",
        "w_strikeouts = -1  # Negative because fewer strikeouts are better\n",
        "w_walks = 1\n",
        "w_hbp = 1\n",
        "\n",
        "# Calculating the performance score\n",
        "combined_data['away_performance_score'] = (\n",
        "    (combined_data['away_score'] * w_final_scored) +\n",
        "    (combined_data['away_hits'] * w_hits) +\n",
        "    (combined_data['away_so'] * w_strikeouts) +\n",
        "    (combined_data['away_bb'] * w_walks) +\n",
        "    (combined_data['away_hbp'] * w_hbp)\n",
        ")\n",
        "combined_data['home_performance_score'] = (\n",
        "    (combined_data['home_score'] * w_final_scored) +\n",
        "    (combined_data['home_hits'] * w_hits) +\n",
        "    (combined_data['home_so'] * w_strikeouts) +\n",
        "    (combined_data['home_bb'] * w_walks) +\n",
        "    (combined_data['home_hbp'] * w_hbp)\n",
        ")"
      ],
      "metadata": {
        "id": "8VYr7dO0UXPy"
      },
      "execution_count": 100,
      "outputs": []
    },
    {
      "cell_type": "code",
      "source": [
        "combined_data['away_win'] = (combined_data['away_performance_score'] > combined_data['home_performance_score']).astype(int)"
      ],
      "metadata": {
        "id": "d48s_Pte3eaD"
      },
      "execution_count": 101,
      "outputs": []
    },
    {
      "cell_type": "code",
      "source": [
        "combined_data.to_csv('final_data.csv', index=False)"
      ],
      "metadata": {
        "id": "j8Mviu0hwHuu"
      },
      "execution_count": 38,
      "outputs": []
    },
    {
      "cell_type": "markdown",
      "source": [
        "### Labeling based on range"
      ],
      "metadata": {
        "id": "rgWb3BVq4nhc"
      }
    },
    {
      "cell_type": "code",
      "source": [
        "data = combined_data.copy()"
      ],
      "metadata": {
        "id": "iI0HNmyQwD4r"
      },
      "execution_count": 102,
      "outputs": []
    },
    {
      "cell_type": "code",
      "source": [
        "from sklearn.preprocessing import LabelEncoder\n",
        "\n",
        "for column in df.columns:\n",
        "    if data[column].dtype == 'object':  # If the column is a string\n",
        "        le = LabelEncoder()\n",
        "        data[column] = le.fit_transform(df[column].fillna(''))  # Fill NA values with an empty string and then transform"
      ],
      "metadata": {
        "id": "T6kLQjHfycy_"
      },
      "execution_count": 103,
      "outputs": []
    },
    {
      "cell_type": "markdown",
      "source": [
        "# Check effect\n",
        "1. away_team travel distance vs. away_team performance"
      ],
      "metadata": {
        "id": "hf90mxsKuZUF"
      }
    },
    {
      "cell_type": "code",
      "source": [
        "df_traveled = data[data['away_team_traveled'] == 1]\n",
        "df_traveled['game_date'] = pd.to_datetime(df_traveled['game_date'], format='%Y%m%d')"
      ],
      "metadata": {
        "colab": {
          "base_uri": "https://localhost:8080/"
        },
        "id": "TX2q8S-hwn90",
        "outputId": "2d22c93b-a93e-4e85-8676-612aaad822ed"
      },
      "execution_count": 128,
      "outputs": [
        {
          "output_type": "stream",
          "name": "stderr",
          "text": [
            "<ipython-input-128-6253aaa33085>:2: SettingWithCopyWarning:\n",
            "\n",
            "\n",
            "A value is trying to be set on a copy of a slice from a DataFrame.\n",
            "Try using .loc[row_indexer,col_indexer] = value instead\n",
            "\n",
            "See the caveats in the documentation: https://pandas.pydata.org/pandas-docs/stable/user_guide/indexing.html#returning-a-view-versus-a-copy\n",
            "\n"
          ]
        }
      ]
    },
    {
      "cell_type": "code",
      "source": [
        "import matplotlib.pyplot as plt\n",
        "years = list(range(2000, 2024))\n",
        "correlations = []\n",
        "\n",
        "# Calculate correlation for each year and store it\n",
        "for year in years:\n",
        "    segment_data = df_traveled[df_traveled['game_date'].dt.year == year]\n",
        "    X = segment_data['travel_distance']\n",
        "    y = segment_data['away_performance_score']\n",
        "    correlation = X.corr(y)\n",
        "    correlations.append(correlation)\n",
        "\n",
        "plt.figure(figsize=(10, 5))\n",
        "plt.plot(years, correlations, marker='o')\n",
        "plt.title('Year vs Correlation of Travel Distance and Away Performance Score')\n",
        "plt.xlabel('Year')\n",
        "plt.ylabel('Correlation')\n",
        "plt.grid(True)\n",
        "plt.tight_layout()\n",
        "plt.show()\n"
      ],
      "metadata": {
        "colab": {
          "base_uri": "https://localhost:8080/",
          "height": 507
        },
        "id": "Q8H7SV6F4ref",
        "outputId": "874f997d-36df-493d-c1a5-b377fb07756a"
      },
      "execution_count": 129,
      "outputs": [
        {
          "output_type": "display_data",
          "data": {
            "text/plain": [
              "<Figure size 1000x500 with 1 Axes>"
            ],
            "image/png": "[encoded data removed]"
          },
          "metadata": {}
        }
      ]
    },
    {
      "cell_type": "markdown",
      "source": [
        "2. Check if team recovering from the travel in the following day games:\n",
        "the slope of performance_score is averagely positive after travel to a city."
      ],
      "metadata": {
        "id": "fCuw9EgE7Ry3"
      }
    },
    {
      "cell_type": "code",
      "source": [
        "data['game_date'] = pd.to_datetime(data['game_date'], format='%Y%m%d')"
      ],
      "metadata": {
        "id": "j81TGbXj_Bj8"
      },
      "execution_count": 133,
      "outputs": []
    },
    {
      "cell_type": "code",
      "source": [
        "import pandas as pd\n",
        "from sklearn.linear_model import LinearRegression\n",
        "import numpy as np\n",
        "\n",
        "\n",
        "# Create a new column 'segment_id' that increments every time 'away_team_traveled' is 1\n",
        "data['segment_id'] = (data['away_team_traveled'] == 1).cumsum()\n",
        "\n",
        "slopes = []\n",
        "grouped = data.groupby('segment_id')\n",
        "\n",
        "# Iterate over each segment\n",
        "for segment_id, segment_data in grouped:\n",
        "    # Ensure the segment has enough data points for regression\n",
        "    if len(segment_data) >= 2:\n",
        "        X = segment_data['game_date'].map(pd.Timestamp.toordinal).values.reshape(-1, 1)\n",
        "        y = segment_data['away_performance_score'].values.reshape(-1, 1)\n",
        "\n",
        "        # Perform Linear Regression\n",
        "        regr = LinearRegression().fit(X, y)\n",
        "\n",
        "        # Get the slope (coefficient) of the regression line\n",
        "        slope = regr.coef_[0][0]\n",
        "        slopes.append(slope)\n",
        "        # print(f\"Segment {segment_id}, Slope: {slope}\")\n",
        "    # else:\n",
        "        # print(f\"Segment {segment_id} skipped, not enough data points\")\n",
        "\n",
        "# Analyze the overall trend based on the slopes of each segment\n",
        "average_slope = np.mean(slopes)\n",
        "print(f\"Average slope across all segments: {average_slope}\")\n",
        "\n",
        "# Check if there is an overall increasing trend\n",
        "if average_slope > 0:\n",
        "    print(\"There is an overall increasing trend in away_performance_score.\")\n",
        "elif average_slope < 0:\n",
        "    print(\"There is an overall decreasing trend in away_performance_score.\")\n",
        "else:\n",
        "    print(\"The away_performance_score is relatively stable across the segments.\")\n"
      ],
      "metadata": {
        "id": "4saNoU60wBTd",
        "colab": {
          "base_uri": "https://localhost:8080/"
        },
        "outputId": "f7b305d7-0bc0-421c-bfbc-0d8defe632a2"
      },
      "execution_count": 137,
      "outputs": [
        {
          "output_type": "stream",
          "name": "stdout",
          "text": [
            "Average slope across all segments: -0.09958710799384389\n",
            "There is an overall decreasing trend in away_performance_score.\n"
          ]
        }
      ]
    },
    {
      "cell_type": "code",
      "source": [],
      "metadata": {
        "id": "IuJn6adm-Jdb"
      },
      "execution_count": null,
      "outputs": []
    }
  ]
}